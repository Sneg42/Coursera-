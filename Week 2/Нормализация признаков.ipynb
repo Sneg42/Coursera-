{
 "cells": [
  {
   "cell_type": "code",
   "execution_count": 6,
   "metadata": {},
   "outputs": [
    {
     "name": "stdout",
     "output_type": "stream",
     "text": [
      "[0 0 0]\n"
     ]
    }
   ],
   "source": [
    "import numpy as np\n",
    "#Пример Perceptron\n",
    "from sklearn.linear_model import Perceptron\n",
    "X = np.array([[1, 2], [3, 4], [5, 6]])\n",
    "y = np.array([0, 1, 0])\n",
    "clf = Perceptron()\n",
    "clf.fit(X, y)\n",
    "predictions = clf.predict(X)\n",
    "print (predictions)"
   ]
  },
  {
   "cell_type": "code",
   "execution_count": 74,
   "metadata": {
    "scrolled": true
   },
   "outputs": [
    {
     "name": "stdout",
     "output_type": "stream",
     "text": [
      "0.725 175\n",
      "scaled  0.9 40\n"
     ]
    }
   ],
   "source": [
    "import pandas as pd\n",
    "from sklearn.preprocessing import StandardScaler\n",
    "\n",
    "#Стандартизация признаков\n",
    "scaler = StandardScaler()\n",
    "\n",
    "#load from file\n",
    "df_train = pd.read_csv('perceptron-train.csv', names=['a', 'b', 'c'])\n",
    "X_train = df_train.drop(['a'], axis=1)\n",
    "y_train = df_train['a']\n",
    "\n",
    "df_test = pd.read_csv('perceptron-test.csv', names=['a', 'b', 'c'])\n",
    "X_test = df_test.drop(['a'], axis=1)\n",
    "y_test = df_test['a']\n",
    "\n",
    "maximum = []\n",
    "maximum_scaled = []\n",
    "for i in range (1,200):\n",
    "\n",
    "    clf = Perceptron(random_state=i)\n",
    "    clf.fit(X_train, y_train)\n",
    "\n",
    "    accuarcy1 = clf.score(X_test, y_test)\n",
    "    maximum.append(accuarcy1)\n",
    "    #print (accuarcy1)\n",
    "\n",
    "    #Стандартизация признаков\n",
    "    X_train_scaled = scaler.fit_transform(X_train)\n",
    "    X_test_scaled = scaler.transform(X_test)\n",
    "\n",
    "    clf.fit(X_train_scaled, y_train)\n",
    "    accuarcy2 = clf.score(X_test_scaled, y_test)\n",
    "    maximum_scaled.append(accuarcy2)\n",
    "    #print (accuarcy2)\n",
    "    #print (accuarcy2 - accuarcy1)\n",
    "print (max(maximum), maximum.index(max(maximum)))\n",
    "print ('scaled ',max(maximum_scaled), maximum_scaled.index(max(maximum_scaled)))"
   ]
  },
  {
   "cell_type": "code",
   "execution_count": 72,
   "metadata": {},
   "outputs": [
    {
     "name": "stdout",
     "output_type": "stream",
     "text": [
      "0.725\n",
      "0.795\n"
     ]
    }
   ],
   "source": [
    "a=176\n",
    "clf = Perceptron(random_state=a)\n",
    "clf.fit(X_train, y_train)\n",
    "accuarcy1 = clf.score(X_test, y_test)\n",
    "\n",
    "print (accuarcy1)\n",
    "\n",
    "#Стандартизация признаков\n",
    "X_train_scaled = scaler.fit_transform(X_train)\n",
    "X_test_scaled = scaler.transform(X_test)\n",
    "\n",
    "clf.fit(X_train_scaled, y_train)\n",
    "accuarcy2 = clf.score(X_test_scaled, y_test)\n",
    "print (accuarcy2)\n",
    "#print (accuarcy2 - accuarcy1)\n",
    "#print (maximum[a])\n",
    "#print (maximum_scaled[a])"
   ]
  },
  {
   "cell_type": "code",
   "execution_count": null,
   "metadata": {},
   "outputs": [],
   "source": []
  },
  {
   "cell_type": "code",
   "execution_count": null,
   "metadata": {
    "collapsed": true
   },
   "outputs": [],
   "source": []
  }
 ],
 "metadata": {
  "kernelspec": {
   "display_name": "Python 3",
   "language": "python",
   "name": "python3"
  },
  "language_info": {
   "codemirror_mode": {
    "name": "ipython",
    "version": 3
   },
   "file_extension": ".py",
   "mimetype": "text/x-python",
   "name": "python",
   "nbconvert_exporter": "python",
   "pygments_lexer": "ipython3",
   "version": "3.6.1"
  }
 },
 "nbformat": 4,
 "nbformat_minor": 2
}
