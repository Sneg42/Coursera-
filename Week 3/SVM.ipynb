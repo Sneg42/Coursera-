{
 "cells": [
  {
   "cell_type": "code",
   "execution_count": 60,
   "metadata": {},
   "outputs": [
    {
     "name": "stdout",
     "output_type": "stream",
     "text": [
      "[ 4  5 10]\n"
     ]
    }
   ],
   "source": [
    "import pandas as pd\n",
    "import numpy as np\n",
    "import math\n",
    "from sklearn.model_selection import KFold, GridSearchCV\n",
    "\n",
    "from sklearn import svm\n",
    "df_svm = pd.read_csv('svm-data.csv', names=['a', 'b','c'],)\n",
    "\n",
    "X = df_svm.drop(['a'], axis=1)\n",
    "y = df_svm['a']\n",
    "\n",
    "svc = svm.SVC(kernel='linear', C=100000, random_state=241)\n",
    "svc.fit(X, y)\n",
    "\n",
    "print (svc.support_ + 1)\n",
    "#print (df_svm)"
   ]
  },
  {
   "cell_type": "code",
   "execution_count": 25,
   "metadata": {},
   "outputs": [
    {
     "name": "stdout",
     "output_type": "stream",
     "text": [
      "[0 0 1 ..., 1 1 0]\n"
     ]
    }
   ],
   "source": [
    "from sklearn import datasets\n",
    "\n",
    "newsgroups = datasets.fetch_20newsgroups(\n",
    "                    subset='all', \n",
    "                    categories=['alt.atheism', 'sci.space'])\n",
    "print (newsgroups.target)"
   ]
  },
  {
   "cell_type": "code",
   "execution_count": 27,
   "metadata": {},
   "outputs": [],
   "source": [
    "from sklearn.feature_extraction.text import  TfidfVectorizer\n",
    "tf_idf = TfidfVectorizer()\n",
    "\n",
    "X = tf_idf.fit_transform(newsgroups.data)\n",
    "y = (newsgroups.target)\n",
    "\n",
    "feature_mapping = tf_idf.get_feature_names()\n",
    "\n"
   ]
  },
  {
   "cell_type": "code",
   "execution_count": 31,
   "metadata": {},
   "outputs": [
    {
     "name": "stdout",
     "output_type": "stream",
     "text": [
      "{'C': array([  1.00000000e-05,   1.00000000e-04,   1.00000000e-03,\n",
      "         1.00000000e-02,   1.00000000e-01,   1.00000000e+00,\n",
      "         1.00000000e+01,   1.00000000e+02,   1.00000000e+03,\n",
      "         1.00000000e+04,   1.00000000e+05])}\n",
      "1\n",
      "1\n"
     ]
    }
   ],
   "source": [
    "# Словарик с поисковыми параметрами С\n",
    "grid = {'C': np.power(10.0, np.arange(-5, 6))}\n",
    "print (grid)\n",
    "\n",
    "# кросс валидация по 5 блокам\n",
    "cv = KFold(n_splits=5, shuffle=True, random_state=241)\n",
    "# обучение на support vector machine\n",
    "clf = svm.SVC(kernel='linear', random_state=241)\n",
    "\n",
    "# посик наилучшего параметра для svm по списку grid \n",
    "gs = GridSearchCV(clf, grid, scoring='accuracy', cv=cv)\n",
    "\n",
    "gs.fit(X, y)\n"
   ]
  },
  {
   "cell_type": "code",
   "execution_count": 34,
   "metadata": {},
   "outputs": [
    {
     "name": "stdout",
     "output_type": "stream",
     "text": [
      "0.552631578947\n",
      "{'C': 1.0000000000000001e-05}\n",
      "0.552631578947\n",
      "{'C': 0.0001}\n",
      "0.552631578947\n",
      "{'C': 0.001}\n",
      "0.552631578947\n",
      "{'C': 0.01}\n",
      "0.950167973124\n",
      "{'C': 0.10000000000000001}\n",
      "0.993281075028\n",
      "{'C': 1.0}\n",
      "0.993281075028\n",
      "{'C': 10.0}\n",
      "0.993281075028\n",
      "{'C': 100.0}\n",
      "0.993281075028\n",
      "{'C': 1000.0}\n",
      "0.993281075028\n",
      "{'C': 10000.0}\n",
      "0.993281075028\n",
      "{'C': 100000.0}\n"
     ]
    },
    {
     "name": "stderr",
     "output_type": "stream",
     "text": [
      "C:\\Sneg\\Add.Program\\Anaconda\\lib\\site-packages\\sklearn\\model_selection\\_search.py:667: DeprecationWarning: The grid_scores_ attribute was deprecated in version 0.18 in favor of the more elaborate cv_results_ attribute. The grid_scores_ attribute will not be available from 0.20\n",
      "  DeprecationWarning)\n"
     ]
    }
   ],
   "source": [
    "#оценка качетсва по кросс-валидации и параметр С \n",
    "for a in gs.grid_scores_:\n",
    "    print (a.mean_validation_score)\n",
    "    print (a.parameters)\n",
    "    # a.mean_validation_score — оценка качества по кросс-валидации\n",
    "    # a.parameters — значения параметров\n"
   ]
  },
  {
   "cell_type": "code",
   "execution_count": 37,
   "metadata": {},
   "outputs": [
    {
     "data": {
      "text/plain": [
       "SVC(C=1.0, cache_size=200, class_weight=None, coef0=0.0,\n",
       "  decision_function_shape=None, degree=3, gamma='auto', kernel='linear',\n",
       "  max_iter=-1, probability=False, random_state=241, shrinking=True,\n",
       "  tol=0.001, verbose=False)"
      ]
     },
     "execution_count": 37,
     "metadata": {},
     "output_type": "execute_result"
    }
   ],
   "source": [
    "#Обучение при лучшем парамтер C\n",
    "\n",
    "С = gs.best_params_\n",
    "clf_best = svm.SVC(kernel='linear', random_state=241, C=C)\n",
    "clf_best.fit(X, y)"
   ]
  },
  {
   "cell_type": "code",
   "execution_count": 119,
   "metadata": {},
   "outputs": [
    {
     "name": "stdout",
     "output_type": "stream",
     "text": [
      "[ 2.66316479  1.9203794   1.25468995  1.24918001  1.20161118  1.1801316\n",
      "  1.13908084  1.13061234  1.09709365  1.02930693]\n"
     ]
    }
   ],
   "source": [
    "arr = np.array(clf_best.coef_.data)\n",
    "\n",
    "arr = np.sort(np.fabs(arr))\n",
    "arr[:] = arr[::-1]\n",
    "top_arr = arr[:10]\n",
    "print (top_arr)"
   ]
  },
  {
   "cell_type": "code",
   "execution_count": 204,
   "metadata": {},
   "outputs": [],
   "source": [
    "# создать dataFrame с колонками 'index' & 'data' и вставить в них индекс и дата (по модулю из обученной модели)\n",
    "i=0\n",
    "df = pd.DataFrame(columns=['index', 'data'])\n",
    "while i < len(clf_best.coef_.indices):\n",
    "    #print (clf_best.coef_.indices)\n",
    "    df1 = pd.DataFrame([[clf_best.coef_.indices[i], math.fabs(clf_best.coef_.data[i])]], columns=['index', 'data'])\n",
    "    df = df.append(df1, ignore_index=True)\n",
    "    i+=1  "
   ]
  },
  {
   "cell_type": "code",
   "execution_count": 226,
   "metadata": {},
   "outputs": [
    {
     "name": "stdout",
     "output_type": "stream",
     "text": [
      "   level_0  index      data\n",
      "0    16693  24019  2.663165\n",
      "1    18092  12871  1.920379\n",
      "2    17449   5088  1.254690\n",
      "3    17045   5093  1.249180\n",
      "4     9015  17802  1.201611\n",
      "5    17536  23673  1.180132\n",
      "6    16935  21850  1.139081\n",
      "7    16746   5776  1.130612\n",
      "8    17422  15606  1.097094\n",
      "9    17469  22936  1.029307\n",
      "24019\n"
     ]
    }
   ],
   "source": [
    "# отсортировать по столбцу 'data' и потом начать с наибольшего\n",
    "df_sort = df.sort_values('data')\n",
    "df_sort = df[::-1]\n",
    "# содать новые индексы у df\n",
    "df_new_index = df.reset_index()\n",
    "print(df_new_index[:10])\n",
    "\n",
    "a = df_new_index['index'][0]\n",
    "print (a)"
   ]
  },
  {
   "cell_type": "code",
   "execution_count": null,
   "metadata": {
    "collapsed": true
   },
   "outputs": [],
   "source": []
  },
  {
   "cell_type": "code",
   "execution_count": 227,
   "metadata": {},
   "outputs": [
    {
     "name": "stdout",
     "output_type": "stream",
     "text": [
      "24019\n",
      "12871\n",
      "5088\n",
      "5093\n",
      "17802\n",
      "23673\n",
      "21850\n",
      "5776\n",
      "15606\n",
      "22936\n",
      "['atheism' 'atheists' 'bible' 'god' 'keith' 'moon' 'religion' 'sci' 'sky'\n",
      " 'space']\n"
     ]
    }
   ],
   "source": [
    "#создать список с 10 самымы повторяющемися словами и отсортировать его и вы\n",
    "word = []\n",
    "i = 0\n",
    "while i <10:\n",
    "    a = df_new_index['index'][i]\n",
    "    print (a)\n",
    "    word.append(feature_mapping[a])\n",
    "    i+=1\n",
    "print (np.sort(word))"
   ]
  },
  {
   "cell_type": "code",
   "execution_count": null,
   "metadata": {},
   "outputs": [],
   "source": []
  },
  {
   "cell_type": "code",
   "execution_count": null,
   "metadata": {
    "collapsed": true
   },
   "outputs": [],
   "source": []
  }
 ],
 "metadata": {
  "kernelspec": {
   "display_name": "Python 3",
   "language": "python",
   "name": "python3"
  },
  "language_info": {
   "codemirror_mode": {
    "name": "ipython",
    "version": 3
   },
   "file_extension": ".py",
   "mimetype": "text/x-python",
   "name": "python",
   "nbconvert_exporter": "python",
   "pygments_lexer": "ipython3",
   "version": "3.6.1"
  }
 },
 "nbformat": 4,
 "nbformat_minor": 2
}
