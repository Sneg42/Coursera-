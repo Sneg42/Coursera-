{
 "cells": [
  {
   "cell_type": "code",
   "execution_count": 27,
   "metadata": {},
   "outputs": [],
   "source": [
    "import pandas as pd\n",
    "import numpy as np\n",
    "from sklearn.metrics import roc_auc_score\n",
    "from sklearn.linear_model import LogisticRegression\n",
    "import math\n",
    "\n",
    "df = pd.read_csv('data-logistic.csv', names=['class', 'a','b'])\n",
    "\n",
    "X = df.drop(['class'], axis=1)\n",
    "y = df['class']\n",
    "\n",
    "def fw1(w1, w2, y, X, k, C):\n",
    "    l = len(y)\n",
    "    S = 0\n",
    "    for i in range(0, l):\n",
    "        S += y[i]*X['a'][i]*(1.0 - 1.0/(1.0 + math.exp(-y[i]*(w1*X['a'][i] + w2*X['b'][i]))))\n",
    "    return w1 + (k/l*S) - k * C * w1\n",
    "\n",
    "def fw2(w1, w2, y, X, k, C):\n",
    "    l = len(y)\n",
    "    S = 0\n",
    "    for i in range(0, l):\n",
    "        S += y[i]*X['b'][i]*(1 - 1/(1 + math.exp(-y[i]*(w1*X['a'][i] + w2*X['b'][i]))))\n",
    "    return w2 + (k/l*S) - k * C * w2\n",
    "\n",
    "def grad(y, X, C=0.0, w1=0.0, w2=0.0, k=0.1, err=1e-5):\n",
    "    i = 0\n",
    "    i_max = 10000\n",
    "    w1_new, w2_new = w1, w2\n",
    "    \n",
    "    while True:\n",
    "        i+=1\n",
    "        w1_new, w2_new = fw1(w1, w2, y, X, k, C), fw2(w1, w2, y, X, k, C)\n",
    "        e = math.sqrt((w1_new - w1) ** 2 + (w2_new - w2) ** 2)\n",
    "        if i >= i_max or e <= err:\n",
    "            break\n",
    "        else:\n",
    "            w1, w2 = w1_new, w2_new\n",
    "    return [w1_new, w2_new]\n",
    "\n",
    "w1, w2 = grad(y, X)\n",
    "rw1, rw2 = grad(y, X, 10.0)\n",
    "\n",
    "def a(X, w1, w2):\n",
    "    return 1/(1 + math.exp(-w1 * X['a'] - w2 * X['b']))\n",
    "\n",
    "y_score = X.apply(lambda x: a(x, w1, w2), axis=1)\n",
    "y_rscore = X.apply(lambda x: a(x, rw1, rw2), axis=1)\n",
    "\n",
    "auc = roc_auc_score(y, y_score)\n",
    "rauc = roc_auc_score(y, y_rscore)"
   ]
  },
  {
   "cell_type": "code",
   "execution_count": 28,
   "metadata": {},
   "outputs": [
    {
     "name": "stdout",
     "output_type": "stream",
     "text": [
      "0.927 0.936\n"
     ]
    }
   ],
   "source": [
    "print (\"{:0.3f} {:0.3f}\".format(auc, rauc))"
   ]
  },
  {
   "cell_type": "code",
   "execution_count": null,
   "metadata": {
    "collapsed": true
   },
   "outputs": [],
   "source": []
  }
 ],
 "metadata": {
  "kernelspec": {
   "display_name": "Python 3",
   "language": "python",
   "name": "python3"
  },
  "language_info": {
   "codemirror_mode": {
    "name": "ipython",
    "version": 3
   },
   "file_extension": ".py",
   "mimetype": "text/x-python",
   "name": "python",
   "nbconvert_exporter": "python",
   "pygments_lexer": "ipython3",
   "version": "3.6.3"
  }
 },
 "nbformat": 4,
 "nbformat_minor": 2
}
