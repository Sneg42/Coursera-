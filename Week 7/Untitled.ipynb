{
 "cells": [
  {
   "cell_type": "code",
   "execution_count": 4,
   "metadata": {},
   "outputs": [],
   "source": [
    "import pandas\n",
    "#import helpers\n",
    "import numpy as np\n",
    "\n",
    "# coding=utf-8\n",
    "import os\n",
    "import pandas\n",
    "\n",
    "def save_clean_data(cleaner, X_train, y_train, X_test, name='simple'):\n",
    "    path = './data/clean/' + name\n",
    "    if not os.path.exists(path):\n",
    "        os.makedirs(path)\n",
    "\n",
    "    y_train.to_csv(path + '/y_train.csv')\n",
    "    cleaner(X_train).to_csv(path + '/X_train.csv')\n",
    "    cleaner(X_test).to_csv(path + '/X_test.csv')\n",
    "\n",
    "def get_clean_data(cleaner_name='simple'):\n",
    "\tpath = './data/clean/' + cleaner_name\n",
    "\tX_train = pandas.read_csv(path + '/X_train.csv', index_col='match_id')\n",
    "\ty_train = pandas.read_csv(path + '/y_train.csv', index_col='match_id')\n",
    "\tX_test = pandas.read_csv(path + '/X_test.csv', index_col='match_id')\n",
    "\treturn X_train, y_train['radiant_win'], X_test"
   ]
  },
  {
   "cell_type": "code",
   "execution_count": 6,
   "metadata": {},
   "outputs": [],
   "source": [
    "# Загружаем данные\n",
    "train = pandas.read_csv('features.csv', index_col='match_id')\n",
    "test = pandas.read_csv('features_test.csv', index_col='match_id')\n",
    "\n",
    "# Удаляем признаки, связанные с итогами матча\n",
    "train.drop(['duration', \n",
    "         'tower_status_radiant', \n",
    "         'tower_status_dire', \n",
    "         'barracks_status_radiant', \n",
    "         'barracks_status_dire'\n",
    "        ], axis=1, inplace=True)\n",
    "\n",
    "# И разделяем датасет на признаки и целевую переменную\n",
    "X = train\n",
    "y = train['radiant_win'].to_frame()\n",
    "del train['radiant_win']"
   ]
  },
  {
   "cell_type": "code",
   "execution_count": 7,
   "metadata": {
    "collapsed": true
   },
   "outputs": [],
   "source": [
    "# Заменяем пропуски на 0\n",
    "def clean(X):\n",
    "    return X.fillna(0)\n",
    "\n",
    "# В данных присутствует 11 категориальных признаков, удаляем их\n",
    "def clean_category(X):\n",
    "    X = clean(X)\n",
    "    del X['lobby_type']\n",
    "    for n in xrange(1, 6):\n",
    "        del X['r{}_hero'.format(n)]\n",
    "        del X['d{}_hero'.format(n)]\n",
    "    return X"
   ]
  },
  {
   "cell_type": "code",
   "execution_count": 10,
   "metadata": {},
   "outputs": [],
   "source": [
    "# heroes = pandas.read_csv('./data/dictionaries/heroes.csv')\n",
    "# print ('Всего героев в игре:', len(heroes))"
   ]
  },
  {
   "cell_type": "code",
   "execution_count": 11,
   "metadata": {
    "collapsed": true
   },
   "outputs": [],
   "source": [
    "# Формируем \"мешок слов\" по героям\n",
    "def hero_bag(X):\n",
    "    X_pick = np.zeros((X.shape[0], len(heroes)))\n",
    "    for i, match_id in enumerate(X.index):\n",
    "        for p in xrange(5):\n",
    "            X_pick[i, X.ix[match_id, 'r%d_hero' % (p+1)]-1] = 1\n",
    "            X_pick[i, X.ix[match_id, 'd%d_hero' % (p+1)]-1] = -1\n",
    "\n",
    "    return pandas.DataFrame(X_pick, index=X.index)"
   ]
  },
  {
   "cell_type": "code",
   "execution_count": null,
   "metadata": {
    "collapsed": true
   },
   "outputs": [],
   "source": [
    "save_clean_data(clean, X, y, test)"
   ]
  },
  {
   "cell_type": "code",
   "execution_count": null,
   "metadata": {
    "collapsed": true
   },
   "outputs": [],
   "source": [
    "save_clean_data(clean_category, X, y, test, name='clean_category')"
   ]
  },
  {
   "cell_type": "code",
   "execution_count": null,
   "metadata": {
    "collapsed": true
   },
   "outputs": [],
   "source": [
    "save_clean_data(hero_bag, X, y, test, name='hero_bag')"
   ]
  },
  {
   "cell_type": "code",
   "execution_count": null,
   "metadata": {
    "collapsed": true
   },
   "outputs": [],
   "source": []
  },
  {
   "cell_type": "code",
   "execution_count": null,
   "metadata": {
    "collapsed": true
   },
   "outputs": [],
   "source": []
  },
  {
   "cell_type": "code",
   "execution_count": null,
   "metadata": {
    "collapsed": true
   },
   "outputs": [],
   "source": []
  },
  {
   "cell_type": "code",
   "execution_count": null,
   "metadata": {
    "collapsed": true
   },
   "outputs": [],
   "source": []
  },
  {
   "cell_type": "code",
   "execution_count": null,
   "metadata": {
    "collapsed": true
   },
   "outputs": [],
   "source": []
  },
  {
   "cell_type": "code",
   "execution_count": null,
   "metadata": {
    "collapsed": true
   },
   "outputs": [],
   "source": []
  },
  {
   "cell_type": "code",
   "execution_count": null,
   "metadata": {
    "collapsed": true
   },
   "outputs": [],
   "source": []
  },
  {
   "cell_type": "code",
   "execution_count": null,
   "metadata": {
    "collapsed": true
   },
   "outputs": [],
   "source": []
  },
  {
   "cell_type": "code",
   "execution_count": null,
   "metadata": {
    "collapsed": true
   },
   "outputs": [],
   "source": []
  }
 ],
 "metadata": {
  "kernelspec": {
   "display_name": "Python 3",
   "language": "python",
   "name": "python3"
  },
  "language_info": {
   "codemirror_mode": {
    "name": "ipython",
    "version": 3
   },
   "file_extension": ".py",
   "mimetype": "text/x-python",
   "name": "python",
   "nbconvert_exporter": "python",
   "pygments_lexer": "ipython3",
   "version": "3.6.3"
  }
 },
 "nbformat": 4,
 "nbformat_minor": 2
}
